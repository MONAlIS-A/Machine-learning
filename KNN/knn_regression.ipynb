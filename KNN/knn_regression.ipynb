{
 "cells": [
  {
   "cell_type": "markdown",
   "id": "28f3c25b-c5a7-47b8-9a08-8a4e678dfa05",
   "metadata": {},
   "source": [
    "# manual calculation knn algorithm using python "
   ]
  },
  {
   "cell_type": "code",
   "execution_count": 12,
   "id": "a3312882-c948-4f66-9fe5-a540d961f519",
   "metadata": {},
   "outputs": [],
   "source": [
    "# function for calculating euclidean distance from predict data  to given  data\n",
    "def euclidean_distance( point1,point2):\n",
    "    return (((point1-point2)**2)**0.5)"
   ]
  },
  {
   "cell_type": "code",
   "execution_count": 15,
   "id": "1e1d85ee-fa22-4ba2-9a71-46ea01a3dd18",
   "metadata": {},
   "outputs": [],
   "source": [
    "# fucntion for finding k nearest neighbour data \n",
    "def knn_regressor(train_data, train_labels,test_point,k):\n",
    "    distances=[]\n",
    "    \n",
    "    for i in range(len(train_data)):\n",
    "        distance=euclidean_distance(train_data[i],test_point) # calling fucntion to get distance from predicted data\n",
    "        distances.append((distance,train_labels[i]))\n",
    "        sorted_distance=sorted(distances)\n",
    "      \n",
    "    # to get only income data from the tuples\n",
    "    second_values = [pair[1] for pair in sorted_distance]\n",
    "    \n",
    "    neighbour=[]\n",
    "\n",
    "    for i in range(k):\n",
    "        nearest_neighbour=second_values[i]        \n",
    "        neighbour.append(nearest_neighbour)       \n",
    "        i=i+1    \n",
    "    sum=0\n",
    "    count=0\n",
    "    for n in neighbour:\n",
    "        sum=sum+n\n",
    "        count=count+1\n",
    "    avg=sum/count # average of nearest neighbours \n",
    "    return avg             "
   ]
  },
  {
   "cell_type": "code",
   "execution_count": 18,
   "id": "c52df616-a684-43ac-9ce5-664804acdf3b",
   "metadata": {},
   "outputs": [
    {
     "name": "stdout",
     "output_type": "stream",
     "text": [
      "Income of predicted data 22 is 60.333333333333336\n"
     ]
    }
   ],
   "source": [
    "# sample data \n",
    "age= [21, 20,22,22,23,21,25,30,31]\n",
    "income=[60,55,60,61,65,62,65,70,68]\n",
    "k=3\n",
    "predicted_age=22\n",
    "predicted_income=knn_regressor(age,income,predicted_age,k)\n",
    "print(f\"Income of predicted data {predicted_age} is {predicted_income}\")\n"
   ]
  },
  {
   "cell_type": "markdown",
   "id": "f9eeb97e-e9f9-435f-9903-f823b611dbd3",
   "metadata": {},
   "source": [
    "# knn algorithm outcomes in sklearn.neighbors "
   ]
  },
  {
   "cell_type": "code",
   "execution_count": 20,
   "id": "054a641d-4705-4d33-b13e-ce0415249da5",
   "metadata": {},
   "outputs": [
    {
     "name": "stdout",
     "output_type": "stream",
     "text": [
      "[60.33333333]\n"
     ]
    }
   ],
   "source": [
    "from sklearn.neighbors import KNeighborsRegressor\n",
    "import numpy as np\n",
    "import pandas as pd\n",
    "\n",
    "# Sample data\n",
    "age = np.array([[21], [20],[22],[22],[23],[21],[25],[30],[31]])\n",
    "income= np.array([60,55,60,61,65,62,65,70,68])\n",
    "# New data point\n",
    "age_new = np.array([[22]])\n",
    "\n",
    "# KNN Regressor with k=3\n",
    "knn = KNeighborsRegressor(n_neighbors=3)\n",
    "knn.fit(age, income)\n",
    "\n",
    "# Predicting the value for the new data point\n",
    "income_pred = knn.predict(X_new)\n",
    "print(income_pred)"
   ]
  },
  {
   "cell_type": "markdown",
   "id": "d6ec8ac8-7b03-4c25-9e70-f97397ca6afd",
   "metadata": {},
   "source": [
    "# knn algrithm outcomes check in linear regression"
   ]
  },
  {
   "cell_type": "code",
   "execution_count": 22,
   "id": "e5fd8488-e504-458c-b7b9-dab106a6f453",
   "metadata": {},
   "outputs": [],
   "source": [
    "import pandas as pd \n",
    "import numpy as np\n",
    "from matplotlib import pyplot as plt"
   ]
  },
  {
   "cell_type": "code",
   "execution_count": 45,
   "id": "9e68a85b-e1ff-4d6d-aca5-0754cef58ccb",
   "metadata": {},
   "outputs": [
    {
     "data": {
      "text/html": [
       "<div>\n",
       "<style scoped>\n",
       "    .dataframe tbody tr th:only-of-type {\n",
       "        vertical-align: middle;\n",
       "    }\n",
       "\n",
       "    .dataframe tbody tr th {\n",
       "        vertical-align: top;\n",
       "    }\n",
       "\n",
       "    .dataframe thead th {\n",
       "        text-align: right;\n",
       "    }\n",
       "</style>\n",
       "<table border=\"1\" class=\"dataframe\">\n",
       "  <thead>\n",
       "    <tr style=\"text-align: right;\">\n",
       "      <th></th>\n",
       "      <th>Age</th>\n",
       "      <th>Income(k)</th>\n",
       "    </tr>\n",
       "  </thead>\n",
       "  <tbody>\n",
       "    <tr>\n",
       "      <th>0</th>\n",
       "      <td>21</td>\n",
       "      <td>60</td>\n",
       "    </tr>\n",
       "    <tr>\n",
       "      <th>1</th>\n",
       "      <td>20</td>\n",
       "      <td>55</td>\n",
       "    </tr>\n",
       "    <tr>\n",
       "      <th>2</th>\n",
       "      <td>22</td>\n",
       "      <td>60</td>\n",
       "    </tr>\n",
       "    <tr>\n",
       "      <th>3</th>\n",
       "      <td>22</td>\n",
       "      <td>61</td>\n",
       "    </tr>\n",
       "    <tr>\n",
       "      <th>4</th>\n",
       "      <td>23</td>\n",
       "      <td>65</td>\n",
       "    </tr>\n",
       "    <tr>\n",
       "      <th>5</th>\n",
       "      <td>21</td>\n",
       "      <td>62</td>\n",
       "    </tr>\n",
       "    <tr>\n",
       "      <th>6</th>\n",
       "      <td>25</td>\n",
       "      <td>65</td>\n",
       "    </tr>\n",
       "    <tr>\n",
       "      <th>7</th>\n",
       "      <td>30</td>\n",
       "      <td>70</td>\n",
       "    </tr>\n",
       "    <tr>\n",
       "      <th>8</th>\n",
       "      <td>31</td>\n",
       "      <td>68</td>\n",
       "    </tr>\n",
       "  </tbody>\n",
       "</table>\n",
       "</div>"
      ],
      "text/plain": [
       "   Age  Income(k)\n",
       "0   21         60\n",
       "1   20         55\n",
       "2   22         60\n",
       "3   22         61\n",
       "4   23         65\n",
       "5   21         62\n",
       "6   25         65\n",
       "7   30         70\n",
       "8   31         68"
      ]
     },
     "execution_count": 45,
     "metadata": {},
     "output_type": "execute_result"
    }
   ],
   "source": [
    "age_income={\"Age\":[21,20,22,22,23,21,25,30,31],\"Income(k)\":[60,55,60,61,65,62,65,70,68]}\n",
    "df=pd.DataFrame(age_income)\n",
    "df\n"
   ]
  },
  {
   "cell_type": "code",
   "execution_count": 47,
   "id": "3bf65f98-153b-4f81-9c6f-d05dee18de6d",
   "metadata": {},
   "outputs": [
    {
     "data": {
      "text/html": [
       "<div>\n",
       "<style scoped>\n",
       "    .dataframe tbody tr th:only-of-type {\n",
       "        vertical-align: middle;\n",
       "    }\n",
       "\n",
       "    .dataframe tbody tr th {\n",
       "        vertical-align: top;\n",
       "    }\n",
       "\n",
       "    .dataframe thead th {\n",
       "        text-align: right;\n",
       "    }\n",
       "</style>\n",
       "<table border=\"1\" class=\"dataframe\">\n",
       "  <thead>\n",
       "    <tr style=\"text-align: right;\">\n",
       "      <th></th>\n",
       "      <th>Age</th>\n",
       "    </tr>\n",
       "  </thead>\n",
       "  <tbody>\n",
       "    <tr>\n",
       "      <th>0</th>\n",
       "      <td>21</td>\n",
       "    </tr>\n",
       "    <tr>\n",
       "      <th>1</th>\n",
       "      <td>20</td>\n",
       "    </tr>\n",
       "    <tr>\n",
       "      <th>2</th>\n",
       "      <td>22</td>\n",
       "    </tr>\n",
       "    <tr>\n",
       "      <th>3</th>\n",
       "      <td>22</td>\n",
       "    </tr>\n",
       "    <tr>\n",
       "      <th>4</th>\n",
       "      <td>23</td>\n",
       "    </tr>\n",
       "    <tr>\n",
       "      <th>5</th>\n",
       "      <td>21</td>\n",
       "    </tr>\n",
       "    <tr>\n",
       "      <th>6</th>\n",
       "      <td>25</td>\n",
       "    </tr>\n",
       "    <tr>\n",
       "      <th>7</th>\n",
       "      <td>30</td>\n",
       "    </tr>\n",
       "    <tr>\n",
       "      <th>8</th>\n",
       "      <td>31</td>\n",
       "    </tr>\n",
       "  </tbody>\n",
       "</table>\n",
       "</div>"
      ],
      "text/plain": [
       "   Age\n",
       "0   21\n",
       "1   20\n",
       "2   22\n",
       "3   22\n",
       "4   23\n",
       "5   21\n",
       "6   25\n",
       "7   30\n",
       "8   31"
      ]
     },
     "execution_count": 47,
     "metadata": {},
     "output_type": "execute_result"
    }
   ],
   "source": [
    "age=df.drop('Income(k)',axis=1)\n",
    "age"
   ]
  },
  {
   "cell_type": "code",
   "execution_count": 48,
   "id": "591ffe3d-871c-40fe-8184-bca8035eb640",
   "metadata": {},
   "outputs": [
    {
     "data": {
      "text/plain": [
       "Age    23.888889\n",
       "dtype: float64"
      ]
     },
     "execution_count": 48,
     "metadata": {},
     "output_type": "execute_result"
    }
   ],
   "source": [
    "age.mean()"
   ]
  },
  {
   "cell_type": "code",
   "execution_count": 51,
   "id": "48cd04db-6989-44c0-80fe-8590a661d149",
   "metadata": {},
   "outputs": [
    {
     "data": {
      "text/html": [
       "<div>\n",
       "<style scoped>\n",
       "    .dataframe tbody tr th:only-of-type {\n",
       "        vertical-align: middle;\n",
       "    }\n",
       "\n",
       "    .dataframe tbody tr th {\n",
       "        vertical-align: top;\n",
       "    }\n",
       "\n",
       "    .dataframe thead th {\n",
       "        text-align: right;\n",
       "    }\n",
       "</style>\n",
       "<table border=\"1\" class=\"dataframe\">\n",
       "  <thead>\n",
       "    <tr style=\"text-align: right;\">\n",
       "      <th></th>\n",
       "      <th>Income(k)</th>\n",
       "    </tr>\n",
       "  </thead>\n",
       "  <tbody>\n",
       "    <tr>\n",
       "      <th>0</th>\n",
       "      <td>60</td>\n",
       "    </tr>\n",
       "    <tr>\n",
       "      <th>1</th>\n",
       "      <td>55</td>\n",
       "    </tr>\n",
       "    <tr>\n",
       "      <th>2</th>\n",
       "      <td>60</td>\n",
       "    </tr>\n",
       "    <tr>\n",
       "      <th>3</th>\n",
       "      <td>61</td>\n",
       "    </tr>\n",
       "    <tr>\n",
       "      <th>4</th>\n",
       "      <td>65</td>\n",
       "    </tr>\n",
       "    <tr>\n",
       "      <th>5</th>\n",
       "      <td>62</td>\n",
       "    </tr>\n",
       "    <tr>\n",
       "      <th>6</th>\n",
       "      <td>65</td>\n",
       "    </tr>\n",
       "    <tr>\n",
       "      <th>7</th>\n",
       "      <td>70</td>\n",
       "    </tr>\n",
       "    <tr>\n",
       "      <th>8</th>\n",
       "      <td>68</td>\n",
       "    </tr>\n",
       "  </tbody>\n",
       "</table>\n",
       "</div>"
      ],
      "text/plain": [
       "   Income(k)\n",
       "0         60\n",
       "1         55\n",
       "2         60\n",
       "3         61\n",
       "4         65\n",
       "5         62\n",
       "6         65\n",
       "7         70\n",
       "8         68"
      ]
     },
     "execution_count": 51,
     "metadata": {},
     "output_type": "execute_result"
    }
   ],
   "source": [
    "income=df.drop('Age',axis=1)\n",
    "income\n"
   ]
  },
  {
   "cell_type": "code",
   "execution_count": 52,
   "id": "edea0357-cd7a-4116-ab26-299c77fa3280",
   "metadata": {},
   "outputs": [
    {
     "data": {
      "text/plain": [
       "Income(k)    62.888889\n",
       "dtype: float64"
      ]
     },
     "execution_count": 52,
     "metadata": {},
     "output_type": "execute_result"
    }
   ],
   "source": [
    "income.mean()"
   ]
  },
  {
   "cell_type": "code",
   "execution_count": 53,
   "id": "d2477e56-a6ab-4f5c-86c0-858cdf552158",
   "metadata": {},
   "outputs": [
    {
     "name": "stdout",
     "output_type": "stream",
     "text": [
      "[[1.01551724]]\n"
     ]
    }
   ],
   "source": [
    "from sklearn.linear_model import LinearRegression\n",
    "reg=LinearRegression()\n",
    "reg.fit(age,income)\n",
    "slope=reg.coef_\n",
    "print(slope)"
   ]
  },
  {
   "cell_type": "code",
   "execution_count": 54,
   "id": "b5dc1706-abeb-4197-8e38-4484d1f106ca",
   "metadata": {},
   "outputs": [
    {
     "name": "stdout",
     "output_type": "stream",
     "text": [
      "[38.62931034]\n"
     ]
    }
   ],
   "source": [
    "intercept=reg.intercept_\n",
    "print(intercept)"
   ]
  },
  {
   "cell_type": "code",
   "execution_count": 55,
   "id": "fd69b649-9628-4e7f-b1ed-f442c000091e",
   "metadata": {},
   "outputs": [
    {
     "name": "stdout",
     "output_type": "stream",
     "text": [
      "[[60.97068966]]\n"
     ]
    },
    {
     "name": "stderr",
     "output_type": "stream",
     "text": [
      "E:\\Users\\UseR\\anaconda3\\Lib\\site-packages\\sklearn\\base.py:493: UserWarning: X does not have valid feature names, but LinearRegression was fitted with feature names\n",
      "  warnings.warn(\n"
     ]
    }
   ],
   "source": [
    "predicted_income=reg.predict([[22]])\n",
    "\n",
    "print(predicted_income)"
   ]
  },
  {
   "cell_type": "code",
   "execution_count": 56,
   "id": "a2f8f3d8-32f1-4b62-9351-5805fb72d3f1",
   "metadata": {},
   "outputs": [],
   "source": [
    "df.to_excel('Age_Income.xlsx',index=False)"
   ]
  },
  {
   "cell_type": "code",
   "execution_count": null,
   "id": "d122ef6f-7743-4b01-9ab3-1b1421b1c8bd",
   "metadata": {},
   "outputs": [],
   "source": []
  }
 ],
 "metadata": {
  "kernelspec": {
   "display_name": "Python 3 (ipykernel)",
   "language": "python",
   "name": "python3"
  },
  "language_info": {
   "codemirror_mode": {
    "name": "ipython",
    "version": 3
   },
   "file_extension": ".py",
   "mimetype": "text/x-python",
   "name": "python",
   "nbconvert_exporter": "python",
   "pygments_lexer": "ipython3",
   "version": "3.12.4"
  }
 },
 "nbformat": 4,
 "nbformat_minor": 5
}
